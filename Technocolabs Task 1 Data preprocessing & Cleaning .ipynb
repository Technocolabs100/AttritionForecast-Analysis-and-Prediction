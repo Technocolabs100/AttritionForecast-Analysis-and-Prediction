{
 "cells": [
  {
   "cell_type": "code",
   "execution_count": 1,
   "id": "c103081f-d6fa-47a9-a5a3-917b9d982b4a",
   "metadata": {},
   "outputs": [],
   "source": [
    "import pandas as pd\n",
    "import numpy as np\n",
    "from sklearn.preprocessing import LabelEncoder, OneHotEncoder\n"
   ]
  },
  {
   "cell_type": "code",
   "execution_count": 5,
   "id": "23283366-ccc0-404d-a66c-6d0253d85ccb",
   "metadata": {},
   "outputs": [],
   "source": [
    "# Load the dataset\n",
    "file_path = 'C:/Users/hp/OneDrive/Desktop/VCU/Technocolabs Softwares/Task 1/WA_Fn-UseC_-HR-Employee-Attrition.csv'\n"
   ]
  },
  {
   "cell_type": "code",
   "execution_count": 6,
   "id": "4772f49b-eea6-4bb0-a057-41e842fd1e7e",
   "metadata": {},
   "outputs": [],
   "source": [
    "df = pd.read_csv(file_path)"
   ]
  },
  {
   "cell_type": "code",
   "execution_count": 9,
   "id": "c80440db-5c0e-4766-92fd-0815edad95a3",
   "metadata": {},
   "outputs": [],
   "source": [
    "# Impute missing values for numerical columns\n",
    "numeric_cols = df.select_dtypes(include=[np.number]).columns\n",
    "df[numeric_cols] = df[numeric_cols].fillna(df[numeric_cols].mean())\n"
   ]
  },
  {
   "cell_type": "code",
   "execution_count": 13,
   "id": "8579c7c0-eeb0-4a1e-a831-3b577617f537",
   "metadata": {},
   "outputs": [
    {
     "name": "stdout",
     "output_type": "stream",
     "text": [
      "<class 'pandas.core.frame.DataFrame'>\n",
      "Index: 699 entries, 2 to 1469\n",
      "Data columns (total 35 columns):\n",
      " #   Column                    Non-Null Count  Dtype \n",
      "---  ------                    --------------  ----- \n",
      " 0   Age                       699 non-null    int64 \n",
      " 1   Attrition                 699 non-null    object\n",
      " 2   BusinessTravel            699 non-null    object\n",
      " 3   DailyRate                 699 non-null    int64 \n",
      " 4   Department                699 non-null    object\n",
      " 5   DistanceFromHome          699 non-null    int64 \n",
      " 6   Education                 699 non-null    int64 \n",
      " 7   EducationField            699 non-null    object\n",
      " 8   EmployeeCount             699 non-null    int64 \n",
      " 9   EmployeeNumber            699 non-null    int64 \n",
      " 10  EnvironmentSatisfaction   699 non-null    int64 \n",
      " 11  Gender                    699 non-null    object\n",
      " 12  HourlyRate                699 non-null    int64 \n",
      " 13  JobInvolvement            699 non-null    int64 \n",
      " 14  JobLevel                  699 non-null    int64 \n",
      " 15  JobRole                   699 non-null    object\n",
      " 16  JobSatisfaction           699 non-null    int64 \n",
      " 17  MaritalStatus             699 non-null    object\n",
      " 18  MonthlyIncome             699 non-null    int64 \n",
      " 19  MonthlyRate               699 non-null    int64 \n",
      " 20  NumCompaniesWorked        699 non-null    int64 \n",
      " 21  Over18                    699 non-null    object\n",
      " 22  OverTime                  699 non-null    object\n",
      " 23  PercentSalaryHike         699 non-null    int64 \n",
      " 24  PerformanceRating         699 non-null    int64 \n",
      " 25  RelationshipSatisfaction  699 non-null    int64 \n",
      " 26  StandardHours             699 non-null    int64 \n",
      " 27  StockOptionLevel          699 non-null    int64 \n",
      " 28  TotalWorkingYears         699 non-null    int64 \n",
      " 29  TrainingTimesLastYear     699 non-null    int64 \n",
      " 30  WorkLifeBalance           699 non-null    int64 \n",
      " 31  YearsAtCompany            699 non-null    int64 \n",
      " 32  YearsInCurrentRole        699 non-null    int64 \n",
      " 33  YearsSinceLastPromotion   699 non-null    int64 \n",
      " 34  YearsWithCurrManager      699 non-null    int64 \n",
      "dtypes: int64(26), object(9)\n",
      "memory usage: 196.6+ KB\n",
      "None\n",
      "              Age    DailyRate  DistanceFromHome   Education  EmployeeCount  \\\n",
      "count  699.000000   699.000000        699.000000  699.000000          699.0   \n",
      "mean    34.895565   807.708155          9.367668    2.864092            1.0   \n",
      "std      8.446306   399.049179          8.168051    1.033874            0.0   \n",
      "min     18.000000   103.000000          1.000000    1.000000            1.0   \n",
      "25%     29.000000   471.000000          2.000000    2.000000            1.0   \n",
      "50%     34.000000   812.000000          7.000000    3.000000            1.0   \n",
      "75%     40.000000  1159.500000         15.000000    4.000000            1.0   \n",
      "max     60.000000  1498.000000         29.000000    5.000000            1.0   \n",
      "\n",
      "       EmployeeNumber  EnvironmentSatisfaction  HourlyRate  JobInvolvement  \\\n",
      "count      699.000000               699.000000  699.000000      699.000000   \n",
      "mean      1034.693848                 2.719599   65.942775        2.731044   \n",
      "std        603.889794                 1.093771   20.458908        0.711587   \n",
      "min          4.000000                 1.000000   30.000000        1.000000   \n",
      "25%        499.000000                 2.000000   48.000000        2.000000   \n",
      "50%       1013.000000                 3.000000   66.000000        3.000000   \n",
      "75%       1566.000000                 4.000000   84.000000        3.000000   \n",
      "max       2068.000000                 4.000000  100.000000        4.000000   \n",
      "\n",
      "         JobLevel  ...  RelationshipSatisfaction  StandardHours  \\\n",
      "count  699.000000  ...                699.000000          699.0   \n",
      "mean     1.696710  ...                  2.712446           80.0   \n",
      "std      0.725806  ...                  1.082024            0.0   \n",
      "min      1.000000  ...                  1.000000           80.0   \n",
      "25%      1.000000  ...                  2.000000           80.0   \n",
      "50%      2.000000  ...                  3.000000           80.0   \n",
      "75%      2.000000  ...                  4.000000           80.0   \n",
      "max      4.000000  ...                  4.000000           80.0   \n",
      "\n",
      "       StockOptionLevel  TotalWorkingYears  TrainingTimesLastYear  \\\n",
      "count        699.000000         699.000000             699.000000   \n",
      "mean           0.639485           8.366237               2.520744   \n",
      "std            0.690864           4.836621               0.755542   \n",
      "min            0.000000           0.000000               1.000000   \n",
      "25%            0.000000           5.000000               2.000000   \n",
      "50%            1.000000           8.000000               2.000000   \n",
      "75%            1.000000          10.000000               3.000000   \n",
      "max            2.000000          23.000000               4.000000   \n",
      "\n",
      "       WorkLifeBalance  YearsAtCompany  YearsInCurrentRole  \\\n",
      "count       699.000000      699.000000          699.000000   \n",
      "mean          2.752504        4.984263            3.268956   \n",
      "std           0.718346        3.475008            2.907710   \n",
      "min           1.000000        0.000000            0.000000   \n",
      "25%           2.000000        2.000000            2.000000   \n",
      "50%           3.000000        5.000000            2.000000   \n",
      "75%           3.000000        7.000000            5.000000   \n",
      "max           4.000000       18.000000           14.000000   \n",
      "\n",
      "       YearsSinceLastPromotion  YearsWithCurrManager  \n",
      "count               699.000000            699.000000  \n",
      "mean                  0.951359              3.145923  \n",
      "std                   1.249840              2.831747  \n",
      "min                   0.000000              0.000000  \n",
      "25%                   0.000000              1.000000  \n",
      "50%                   1.000000              2.000000  \n",
      "75%                   1.000000              4.000000  \n",
      "max                   5.000000             11.000000  \n",
      "\n",
      "[8 rows x 26 columns]\n"
     ]
    }
   ],
   "source": [
    "# 1. Data Exploration\n",
    "print(df.info())\n",
    "print(df.describe())\n"
   ]
  },
  {
   "cell_type": "code",
   "execution_count": 15,
   "id": "e77859da-c198-4422-bca8-0fe09bfce17b",
   "metadata": {},
   "outputs": [],
   "source": [
    "# Impute missing values for categorical columns\n",
    "categorical_cols = df.select_dtypes(include=['object']).columns\n",
    "df[categorical_cols] = df[categorical_cols].fillna(df[categorical_cols].mode().iloc[0])"
   ]
  },
  {
   "cell_type": "code",
   "execution_count": 16,
   "id": "ea7833b0-1b21-4fc7-8d5f-d8cf36e31ce5",
   "metadata": {},
   "outputs": [
    {
     "name": "stdout",
     "output_type": "stream",
     "text": [
      "Age                         0\n",
      "Attrition                   0\n",
      "BusinessTravel              0\n",
      "DailyRate                   0\n",
      "Department                  0\n",
      "DistanceFromHome            0\n",
      "Education                   0\n",
      "EducationField              0\n",
      "EmployeeCount               0\n",
      "EmployeeNumber              0\n",
      "EnvironmentSatisfaction     0\n",
      "Gender                      0\n",
      "HourlyRate                  0\n",
      "JobInvolvement              0\n",
      "JobLevel                    0\n",
      "JobRole                     0\n",
      "JobSatisfaction             0\n",
      "MaritalStatus               0\n",
      "MonthlyIncome               0\n",
      "MonthlyRate                 0\n",
      "NumCompaniesWorked          0\n",
      "Over18                      0\n",
      "OverTime                    0\n",
      "PercentSalaryHike           0\n",
      "PerformanceRating           0\n",
      "RelationshipSatisfaction    0\n",
      "StandardHours               0\n",
      "StockOptionLevel            0\n",
      "TotalWorkingYears           0\n",
      "TrainingTimesLastYear       0\n",
      "WorkLifeBalance             0\n",
      "YearsAtCompany              0\n",
      "YearsInCurrentRole          0\n",
      "YearsSinceLastPromotion     0\n",
      "YearsWithCurrManager        0\n",
      "dtype: int64\n",
      "Value counts for Attrition:\n",
      "Attrition\n",
      "no     577\n",
      "yes    122\n",
      "Name: count, dtype: int64\n",
      "\n",
      "Value counts for BusinessTravel:\n",
      "BusinessTravel\n",
      "travel_rarely        498\n",
      "travel_frequently    133\n",
      "non-travel            68\n",
      "Name: count, dtype: int64\n",
      "\n",
      "Value counts for Department:\n",
      "Department\n",
      "research & development    438\n",
      "sales                     230\n",
      "human resources            31\n",
      "Name: count, dtype: int64\n",
      "\n",
      "Value counts for EducationField:\n",
      "EducationField\n",
      "life sciences       289\n",
      "medical             191\n",
      "marketing            88\n",
      "technical degree     73\n",
      "other                44\n",
      "human resources      14\n",
      "Name: count, dtype: int64\n",
      "\n",
      "Value counts for Gender:\n",
      "Gender\n",
      "male      440\n",
      "female    259\n",
      "Name: count, dtype: int64\n",
      "\n",
      "Value counts for JobRole:\n",
      "JobRole\n",
      "sales executive              169\n",
      "research scientist           159\n",
      "laboratory technician        136\n",
      "manufacturing director        66\n",
      "sales representative          59\n",
      "healthcare representative     59\n",
      "human resources               31\n",
      "research director             15\n",
      "manager                        5\n",
      "Name: count, dtype: int64\n",
      "\n",
      "Value counts for MaritalStatus:\n",
      "MaritalStatus\n",
      "married     308\n",
      "single      256\n",
      "divorced    135\n",
      "Name: count, dtype: int64\n",
      "\n",
      "Value counts for Over18:\n",
      "Over18\n",
      "y    699\n",
      "Name: count, dtype: int64\n",
      "\n",
      "Value counts for OverTime:\n",
      "OverTime\n",
      "no     496\n",
      "yes    203\n",
      "Name: count, dtype: int64\n",
      "\n"
     ]
    }
   ],
   "source": [
    "print(df.isnull().sum())\n",
    "for column in df.select_dtypes(include=['object']).columns:\n",
    "    print(f\"Value counts for {column}:\\n{df[column].value_counts()}\\n\")"
   ]
  },
  {
   "cell_type": "code",
   "execution_count": 24,
   "id": "bd2fde9b-1a1a-47c0-96bf-fded99e72203",
   "metadata": {},
   "outputs": [],
   "source": [
    "# Handling outliers (example using IQR)\n",
    "for column in numeric_cols:\n",
    "    Q1 = df[column].quantile(0.25)\n",
    "    Q3 = df[column].quantile(0.75)\n",
    "    IQR = Q3 - Q1\n",
    "    df = df[~((df[column] < (Q1 - 1.5 * IQR)) | (df[column] > (Q3 + 1.5 * IQR)))]"
   ]
  },
  {
   "cell_type": "code",
   "execution_count": 26,
   "id": "a89c372c-12fc-42e3-85eb-775760ad488c",
   "metadata": {},
   "outputs": [],
   "source": [
    "# Ensure consistency in categorical data\n",
    "for column in categorical_cols:\n",
    "    df[column] = df[column].astype(str).str.strip().str.lower()\n"
   ]
  },
  {
   "cell_type": "code",
   "execution_count": 27,
   "id": "9ccd4e51-23f4-4346-acd0-26084b393098",
   "metadata": {},
   "outputs": [
    {
     "name": "stdout",
     "output_type": "stream",
     "text": [
      "Binary columns: ['Attrition', 'Gender', 'OverTime']\n"
     ]
    }
   ],
   "source": [
    "#Data encoding\n",
    "# Identify binary columns\n",
    "binary_columns = [col for col in df.columns if df[col].nunique() == 2]\n",
    "print(\"Binary columns:\", binary_columns)"
   ]
  },
  {
   "cell_type": "code",
   "execution_count": 28,
   "id": "e14678cd-7205-4eb3-b0a4-7e02e94a71b5",
   "metadata": {},
   "outputs": [],
   "source": [
    "le = LabelEncoder()\n",
    "for column in binary_columns:\n",
    "    df[column] = le.fit_transform(df[column])\n"
   ]
  },
  {
   "cell_type": "code",
   "execution_count": 29,
   "id": "c328c5f0-3f05-4fa1-ac5f-3e64470c96b4",
   "metadata": {},
   "outputs": [],
   "source": [
    "# One-Hot Encoding for multi-class categorical features\n",
    "multi_class_columns = ['BusinessTravel', 'Department', 'EducationField', 'JobRole', 'MaritalStatus']\n",
    "# Ensure these columns are present in the DataFrame before applying One-Hot Encoding\n",
    "multi_class_columns = [col for col in multi_class_columns if col in df.columns]\n",
    "df = pd.get_dummies(df, columns=multi_class_columns, drop_first=True)"
   ]
  },
  {
   "cell_type": "code",
   "execution_count": 30,
   "id": "96ec4abb-aa32-4d4e-87d8-186cea6d95a9",
   "metadata": {},
   "outputs": [],
   "source": [
    "# 4. Data Labeling\n",
    "# Ensure target variable is labeled if not already handled in binary columns\n",
    "if 'Attrition' not in binary_columns:\n",
    "    df['Attrition'] = le.fit_transform(df['Attrition'])"
   ]
  },
  {
   "cell_type": "code",
   "execution_count": 31,
   "id": "a26e63bf-4303-480a-a2b0-5bbf83126770",
   "metadata": {},
   "outputs": [],
   "source": [
    "# Save the cleaned and encoded dataset\n",
    "df.to_csv('cleaned_employee_data.csv', index=False)"
   ]
  },
  {
   "cell_type": "code",
   "execution_count": 32,
   "id": "60806bb2-beec-4889-815d-55cf78416470",
   "metadata": {},
   "outputs": [
    {
     "name": "stdout",
     "output_type": "stream",
     "text": [
      "Data preprocessing and preparation completed successfully.\n"
     ]
    }
   ],
   "source": [
    "print(\"Data preprocessing and preparation completed successfully.\")"
   ]
  },
  {
   "cell_type": "code",
   "execution_count": null,
   "id": "252fe709-e93e-4df0-a6bf-fed8f8f4bd86",
   "metadata": {},
   "outputs": [],
   "source": []
  }
 ],
 "metadata": {
  "kernelspec": {
   "display_name": "Python 3 (ipykernel)",
   "language": "python",
   "name": "python3"
  },
  "language_info": {
   "codemirror_mode": {
    "name": "ipython",
    "version": 3
   },
   "file_extension": ".py",
   "mimetype": "text/x-python",
   "name": "python",
   "nbconvert_exporter": "python",
   "pygments_lexer": "ipython3",
   "version": "3.12.4"
  }
 },
 "nbformat": 4,
 "nbformat_minor": 5
}
