{
 "cells": [
  {
   "cell_type": "code",
   "execution_count": 1,
   "id": "0e078420-08e8-4c82-833e-b488859a29f9",
   "metadata": {},
   "outputs": [
    {
     "name": "stdout",
     "output_type": "stream",
     "text": [
      "Collecting scikit-learnNote: you may need to restart the kernel to use updated packages.\n",
      "\n",
      "  Using cached scikit_learn-1.5.1-cp312-cp312-win_amd64.whl.metadata (12 kB)\n",
      "Requirement already satisfied: numpy>=1.19.5 in c:\\users\\dell\\documents\\data analyst internship\\attritionforecast-analysis-and-prediction\\venv\\lib\\site-packages (from scikit-learn) (2.0.1)\n",
      "Collecting scipy>=1.6.0 (from scikit-learn)\n",
      "  Using cached scipy-1.14.0-cp312-cp312-win_amd64.whl.metadata (60 kB)\n",
      "Collecting joblib>=1.2.0 (from scikit-learn)\n",
      "  Using cached joblib-1.4.2-py3-none-any.whl.metadata (5.4 kB)\n",
      "Requirement already satisfied: threadpoolctl>=3.1.0 in c:\\users\\dell\\documents\\data analyst internship\\attritionforecast-analysis-and-prediction\\venv\\lib\\site-packages (from scikit-learn) (3.5.0)\n",
      "Using cached scikit_learn-1.5.1-cp312-cp312-win_amd64.whl (10.9 MB)\n",
      "Using cached joblib-1.4.2-py3-none-any.whl (301 kB)\n",
      "Using cached scipy-1.14.0-cp312-cp312-win_amd64.whl (44.5 MB)\n",
      "Installing collected packages: scipy, joblib, scikit-learn\n",
      "Successfully installed joblib-1.4.2 scikit-learn-1.5.1 scipy-1.14.0\n"
     ]
    },
    {
     "name": "stderr",
     "output_type": "stream",
     "text": [
      "WARNING: Skipping C:\\Users\\Dell\\Documents\\Data Analyst Internship\\AttritionForecast-Analysis-and-Prediction\\venv\\Lib\\site-packages\\scipy-1.14.0.dist-info due to invalid metadata entry 'name'\n",
      "WARNING: Skipping C:\\Users\\Dell\\Documents\\Data Analyst Internship\\AttritionForecast-Analysis-and-Prediction\\venv\\Lib\\site-packages\\scipy-1.14.0.dist-info due to invalid metadata entry 'name'\n",
      "WARNING: Skipping C:\\Users\\Dell\\Documents\\Data Analyst Internship\\AttritionForecast-Analysis-and-Prediction\\venv\\Lib\\site-packages\\scipy-1.14.0.dist-info due to invalid metadata entry 'name'\n",
      "\n",
      "[notice] A new release of pip is available: 24.0 -> 24.1.2\n",
      "[notice] To update, run: python.exe -m pip install --upgrade pip\n"
     ]
    }
   ],
   "source": [
    "pip install scikit-learn"
   ]
  },
  {
   "cell_type": "code",
   "execution_count": 12,
   "id": "2527c3ff-3864-4549-95ce-c8cf4e7bde4e",
   "metadata": {},
   "outputs": [
    {
     "name": "stdout",
     "output_type": "stream",
     "text": [
      "Accuracy: 0.8673469387755102\n"
     ]
    }
   ],
   "source": [
    "import pandas as pd\n",
    "from sklearn.model_selection import train_test_split\n",
    "from sklearn.preprocessing import StandardScaler\n",
    "from sklearn.linear_model import LogisticRegression\n",
    "from sklearn.metrics import accuracy_score\n",
    "# Load dataset\n",
    "data = pd.read_csv('C:/Users/Dell/Documents/Data Analyst Internship/AttritionForecast-Analysis-and-Prediction/Attrition Dataset/WA_Fn-UseC_-HR-Employee-Attrition.csv')\n",
    "# Encode 'Attrition' as 1 (Yes) and 0 (No)\n",
    "data['Attrition'] = data['Attrition'].apply(lambda x: 1 if x == 'Yes' else 0)\n",
    "\n",
    "# Select relevant features for prediction\n",
    "features = data[['Age', 'JobSatisfaction', 'WorkLifeBalance', 'RelationshipSatisfaction', 'Department', 'Gender', 'MaritalStatus']]\n",
    "target = data['Attrition']\n",
    "\n",
    "# Encode categorical variables\n",
    "features = pd.get_dummies(features)\n",
    "\n",
    "# Split the data\n",
    "X_train, X_test, y_train, y_test = train_test_split(features, target, test_size=0.2, random_state=42)\n",
    "\n",
    "# Standardize the data\n",
    "scaler = StandardScaler()\n",
    "X_train = scaler.fit_transform(X_train)\n",
    "X_test = scaler.transform(X_test)\n",
    "\n",
    "# Train logistic regression model\n",
    "model = LogisticRegression()\n",
    "model.fit(X_train, y_train)\n",
    "\n",
    "# Make predictions\n",
    "predictions = model.predict(X_test)\n",
    "predictions_proba = model.predict_proba(X_test)[:, 1]\n",
    "\n",
    "# Calculate accuracy\n",
    "accuracy = accuracy_score(y_test, predictions)\n",
    "print(f'Accuracy: {accuracy}')\n",
    "\n",
    "# Add predictions to the test dataset\n",
    "X_test_df = pd.DataFrame(X_test, columns=features.columns)\n",
    "X_test_df['Predicted_Attrition'] = predictions\n",
    "X_test_df['Attrition_Probability'] = predictions_proba\n",
    "X_test_df['PredictionDate'] = datetime.today().strftime('%Y-%m-%d')\n",
    "\n",
    "# Save the predictions\n",
    "X_test_df.to_csv('predictions_with_date.csv', index=False)"
   ]
  },
  {
   "cell_type": "code",
   "execution_count": null,
   "id": "06c15397-b038-4993-82fe-f64455d2cd0f",
   "metadata": {},
   "outputs": [],
   "source": []
  }
 ],
 "metadata": {
  "kernelspec": {
   "display_name": "Python 3 (ipykernel)",
   "language": "python",
   "name": "python3"
  },
  "language_info": {
   "codemirror_mode": {
    "name": "ipython",
    "version": 3
   },
   "file_extension": ".py",
   "mimetype": "text/x-python",
   "name": "python",
   "nbconvert_exporter": "python",
   "pygments_lexer": "ipython3",
   "version": "3.12.4"
  }
 },
 "nbformat": 4,
 "nbformat_minor": 5
}
